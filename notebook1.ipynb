{
 "cells": [
  {
   "cell_type": "markdown",
   "metadata": {},
   "source": [
    "ola q ase\n",
    "\n",
    "\n",
    "======="
   ]
  },
  {
   "cell_type": "markdown",
   "metadata": {},
   "source": [
    "buenas"
   ]
  }
 ],
 "metadata": {
  "language_info": {
   "name": "python"
  }
 },
 "nbformat": 4,
 "nbformat_minor": 2
}
