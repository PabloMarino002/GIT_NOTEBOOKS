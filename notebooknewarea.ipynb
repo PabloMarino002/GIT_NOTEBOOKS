{
 "cells": [
  {
   "cell_type": "markdown",
   "metadata": {},
   "source": [
    "notebook en new_rama"
   ]
  },
  {
   "cell_type": "markdown",
   "metadata": {},
   "source": [
    "new rama"
   ]
  },
  {
   "cell_type": "markdown",
   "metadata": {},
   "source": [
    "desafew"
   ]
  }
 ],
 "metadata": {
  "language_info": {
   "name": "python"
  }
 },
 "nbformat": 4,
 "nbformat_minor": 2
}
